{
 "cells": [
  {
   "cell_type": "code",
   "execution_count": 1,
   "id": "circular-afternoon",
   "metadata": {},
   "outputs": [
    {
     "name": "stdout",
     "output_type": "stream",
     "text": [
      "tv.php?e_id=93 1\n",
      "tv.php?e_id=133 2\n",
      "tv.php?e_id=129 3\n",
      "tv.php?e_id=94 4\n",
      "tv.php?e_id=120 5\n",
      "tv.php?e_id=116 6\n",
      "tv.php?e_id=92 7\n",
      "tv.php?e_id=86 8\n",
      "tv.php?e_id=115 9\n",
      "tv.php?e_id=114 10\n",
      "tv.php?e_id=91 11\n",
      "tv.php?e_id=32 12\n",
      "tv.php?e_id=87 13\n",
      "tv.php?e_id=80 14\n",
      "tv.php?e_id=84 15\n",
      "tv.php?e_id=85 16\n",
      "tv.php?e_id=79 17\n",
      "tv.php?e_id=81 18\n",
      "tv.php?e_id=83 19\n",
      "tv.php?e_id=132 20\n"
     ]
    }
   ],
   "source": [
    "import requests\n",
    "from bs4 import BeautifulSoup\n",
    "from lxml import etree\n",
    "import re\n",
    "import progressbar\n",
    "import urllib.request\n",
    "import multiprocessing as mp\n",
    "\n",
    "\n",
    "pbar = None\n",
    "\n",
    "\n",
    "def show_progress(block_num, block_size, total_size):\n",
    "    global pbar\n",
    "    if pbar is None:\n",
    "        pbar = progressbar.ProgressBar(maxval=total_size)\n",
    "        pbar.start()\n",
    "\n",
    "    downloaded = block_num * block_size\n",
    "    if downloaded < total_size:\n",
    "        pbar.update(downloaded)\n",
    "    else:\n",
    "        pbar.finish()\n",
    "        pbar = None\n",
    "\n",
    "\n",
    "\n",
    "\n",
    "directory = 'https://app3.rthk.hk/special/awardpro/award12/'\n",
    "website = requests.get(directory)\n",
    "soup = BeautifulSoup(website.content, 'html.parser')\n",
    "# id_1 = soup.find(class_ = \"rollover2\")\n",
    "# id_2 = soup.find(class_ = \"rollover3\")\n",
    "# print(id.text)\n",
    "\n",
    "links = soup.find_all(href=True)\n",
    "list_link=[]\n",
    "for el in links:\n",
    "    holder = el['href']\n",
    "    if holder[0]=='t':\n",
    "        list_link.append(holder)\n",
    "        print(holder, len(list_link))"
   ]
  },
  {
   "cell_type": "code",
   "execution_count": 2,
   "id": "accepting-fiber",
   "metadata": {},
   "outputs": [
    {
     "name": "stdout",
     "output_type": "stream",
     "text": [
      "20\n"
     ]
    }
   ],
   "source": [
    "failed_list=[]\n",
    "print(len(list_link))"
   ]
  },
  {
   "cell_type": "code",
   "execution_count": null,
   "id": "absolute-canon",
   "metadata": {},
   "outputs": [
    {
     "name": "stdout",
     "output_type": "stream",
     "text": [
      "https://app3.rthk.hk/special/awardpro/award12/tv.php?e_id=93https://app3.rthk.hk/special/awardpro/award12/tv.php?e_id=133  ['https://app3.rthk.hk/podcast/media/women4/327_1112131605_83186_h.mp4', 'https://app3.rthk.hk/podcast/media/women4/327_1112231133_20888_h.mp4']['https://app3.rthk.hk/podcast/media/culturalheritage2012/350_1204101702_58331_h.mp4']  \n",
      "女人多自在4：我們的父親 / 我們的母親Women with Dreams：Our Father. Our Mother\n",
      "文化長河－山川行：水田奧秘Cultural Heritage\n",
      "\n",
      "https://app3.rthk.hk/special/awardpro/award12/tv.php?e_id=91https://app3.rthk.hk/special/awardpro/award12/tv.php?e_id=79https://app3.rthk.hk/special/awardpro/award12/tv.php?e_id=83   ['https://app3.rthk.hk/podcast/media/icac2011/330_1111141436_16539_h.mp4', 'https://app3.rthk.hk/podcast/media/icac2011/330_1111141446_51359_h.mp4']['https://app3.rthk.hk/podcast/media/hongkongconnection/244_1112281200_37416_h.mp4']['https://app3.rthk.hk/podcast/media/hongkongconnection/244_1105261731_97593_h.mp4']   \n",
      "廉政行動 2011：盲目ICAC investigators 2011：A Blind Eye\n",
      "鏗鏘集：好人難做Hong Kong Connection：To Be A Good Samaritan in China\n",
      "鏗鏘集：等待安居的日子Hong Kong Connection：Housing - A Perennial Problem\n",
      "\n",
      "https://app3.rthk.hk/special/awardpro/award12/tv.php?e_id=81\n",
      " ['https://app3.rthk.hk/podcast/media/hongkongconnection/244_1103011440_81241_h.mp4'] \n",
      "鏗鏘集：何謂自願減班Hong Kong Connection：Voluntary Class Reduction\n",
      "https://app3.rthk.hk/special/awardpro/award12/tv.php?e_id=86 ['https://app3.rthk.hk/mp4', 'https://app3.rthk.hk/mp4', 'https://app3.rthk.hk/mp4', 'https://app3.rthk.hk/mp4', 'https://app3.rthk.hk/mp4', 'https://app3.rthk.hk/mp4', 'https://app3.rthk.hk/mp4', 'https://app3.rthk.hk/mp4', 'https://app3.rthk.hk/mp4', 'https://app3.rthk.hk/mp4', 'https://app3.rthk.hk/mp4'] \n",
      "香港故事：我們的歷史 \n",
      "https://app3.rthk.hk/special/awardpro/award12/tv.php?e_id=116 ['https://app3.rthk.hk/podcast/media/rehab2011/298_1110131222_66484_h.mp4'] \n",
      "沒有牆的世界 II：天使愛學習 \n",
      "https://app3.rthk.hk/special/awardpro/award12/tv.php?e_id=129 ['https://app3.rthk.hk/podcast/media/fire/275_1203281851_91614_h.mp4', 'https://app3.rthk.hk/podcast/media/fire/275_1203291100_81263_h.mp4'] \n",
      "火速救兵II：同袍Elite Brigade II：\"Team Fighters\"\n"
     ]
    },
    {
     "name": "stderr",
     "output_type": "stream",
     "text": [
      "  0% |                                                                        |\r"
     ]
    },
    {
     "name": "stdout",
     "output_type": "stream",
     "text": [
      "https://app3.rthk.hk/special/awardpro/award12/tv.php?e_id=87 ['https://app3.rthk.hk/podcast/media/headliner/272_1105111823_48902_h.mp4'] \n",
      "頭條新聞：讓太后飛Headliner：Let the Empress Dowager Fly\n"
     ]
    },
    {
     "name": "stderr",
     "output_type": "stream",
     "text": [
      "  0% |                                                                        |\r"
     ]
    },
    {
     "name": "stdout",
     "output_type": "stream",
     "text": [
      "https://app3.rthk.hk/special/awardpro/award12/tv.php?e_id=94 ['https://app3.rthk.hk/podcast/media/aintnoadult/310_1106221517_44740_h.mp4'] \n",
      "我未成年：給我一個家Ain’t No Adult：Give Me A Home\n",
      "https://app3.rthk.hk/special/awardpro/award12/tv.php?e_id=84 ['https://app3.rthk.hk/podcast/media/hongkongconnection/244_1112191627_47193_h.mp4'] \n",
      "鏗鏘集：大魚食細魚，細魚食… \n",
      "https://app3.rthk.hk/special/awardpro/award12/tv.php?e_id=92 ['https://app3.rthk.hk/podcast/media/rehab2011/298_1103211503_50338_h.mp4'] \n",
      "沒有牆的世界 II：活著的路又細又長A Wall-less World：Living is a long and winding road\n",
      "https://app3.rthk.hk/special/awardpro/award12/tv.php?e_id=115 [] \n",
      "廉政行動 2011ICAC investigators 2011\n"
     ]
    },
    {
     "name": "stderr",
     "output_type": "stream",
     "text": [
      "  0% |                                                                        |\r"
     ]
    },
    {
     "name": "stdout",
     "output_type": "stream",
     "text": [
      "https://app3.rthk.hk/special/awardpro/award12/tv.php?e_id=120 ['https://app3.rthk.hk/podcast/media/walllessworld3/377_1208171728_66457_h.mp4'] \n",
      "沒有牆的世界 III：煦日A Wall-less World III：\"Melancholia\"\n"
     ]
    },
    {
     "name": "stderr",
     "output_type": "stream",
     "text": [
      "  0% |                                                                        |\r"
     ]
    },
    {
     "name": "stdout",
     "output_type": "stream",
     "text": [
      "https://app3.rthk.hk/special/awardpro/award12/tv.php?e_id=114 ['https://app3.rthk.hk/podcast/media/icac2011/330_1111241428_66588_h.mp4', 'https://app3.rthk.hk/podcast/media/icac2011/330_1111241430_75403_h.mp4'] https://app3.rthk.hk/special/awardpro/award12/tv.php?e_id=85\n",
      "廉政行動 2011：心魔ICAC investigators 2011 \n",
      "['https://app3.rthk.hk/podcast/media/hongkongconnection/244_1106211517_69573_h.mp4'] \n",
      "鏗鏘集：內有文章 https://app3.rthk.hk/special/awardpro/award12/tv.php?e_id=80\n",
      " ['https://app3.rthk.hk/podcast/media/hongkongconnection/244_1109141548_65927_h.mp4'] \n",
      "鏗鏘集：一塊紅布Hong Kong Connection：Behind the Red Banner\n"
     ]
    },
    {
     "name": "stderr",
     "output_type": "stream",
     "text": [
      "  0% |                                                                        |\r"
     ]
    },
    {
     "name": "stdout",
     "output_type": "stream",
     "text": [
      "https://app3.rthk.hk/special/awardpro/award12/tv.php?e_id=32 ['https://app3.rthk.hk/podcast/media/richmate2/299_1102091855_56122_h.mp4', 'https://app3.rthk.hk/podcast/media/richmate2/299_1102161320_89639_h.mp4', 'https://app3.rthk.hk/podcast/media/richmate2/299_1102231654_18693_h.mp4', 'https://app3.rthk.hk/podcast/media/richmate2/299_1103021741_38030_h.mp4', 'https://app3.rthk.hk/podcast/media/richmate2/299_1103091822_15140_h.mp4', 'https://app3.rthk.hk/podcast/media/richmate2/299_1103161325_82317_h.mp4', 'https://app3.rthk.hk/podcast/media/richmate2/299_1103231804_36725_h.mp4'] \n",
      "窮富翁大作戰IIRich Mate, Poor Mate II\n"
     ]
    },
    {
     "name": "stderr",
     "output_type": "stream",
     "text": [
      "  0% |                                                                        |\r"
     ]
    },
    {
     "name": "stdout",
     "output_type": "stream",
     "text": [
      "https://app3.rthk.hk/special/awardpro/award12/tv.php?e_id=132 ['https://app3.rthk.hk/podcast/media/glamourwearesports/316_1108261630_45040_h.mp4'] \n",
      "體育的風采 – 我是體育人：千里走單騎Glamour of Sport – We are sports people：“Going it Alone”\n"
     ]
    },
    {
     "name": "stderr",
     "output_type": "stream",
     "text": [
      "Exception in thread Thread-6:                                                 |\n",
      "Traceback (most recent call last):\n",
      "  File \"/Users/ato/anaconda3/lib/python3.7/threading.py\", line 917, in _bootstrap_inner\n",
      "    self.run()\n",
      "  File \"/Users/ato/anaconda3/lib/python3.7/threading.py\", line 865, in run\n",
      "    self._target(*self._args, **self._kwargs)\n",
      "  File \"/Users/ato/anaconda3/lib/python3.7/multiprocessing/pool.py\", line 470, in _handle_results\n",
      "    task = get()\n",
      "  File \"/Users/ato/anaconda3/lib/python3.7/multiprocessing/connection.py\", line 251, in recv\n",
      "    return _ForkingPickler.loads(buf.getbuffer())\n",
      "TypeError: __init__() missing 1 required positional argument: 'content'\n",
      "\n",
      "100% |########################################################################|\n",
      "100% |########################################################################|\n",
      "100% |########################################################################|\n",
      "100% |########################################################################|\n",
      "100% |########################################################################|\n",
      "100% |########################################################################|\n",
      "100% |########################################################################|\n",
      "100% |########################################################################|\n",
      " 12% |########                                                                |\r"
     ]
    }
   ],
   "source": [
    "def scrape(k):\n",
    "#     driver = webdriver.Chrome(executable_path = chromepath)\n",
    "#     driver.get(directory+link)\n",
    "\n",
    "#     html = driver.page_source\n",
    "#     soup = BeautifulSoup(html)\n",
    "\n",
    "    HEADERS = ({'User-Agent':\n",
    "                'Mozilla/5.0 (X11; Linux x86_64) AppleWebKit/537.36 \\\n",
    "                (KHTML, like Gecko) Chrome/44.0.2403.157 Safari/537.36',\\\n",
    "                'Accept-Language': 'en-US, en;q=0.5'})\n",
    "\n",
    "    website_sub = requests.get(directory+list_link[k], headers=HEADERS)\n",
    "    soup = BeautifulSoup(website_sub.content, \"html.parser\")\n",
    "#     body = soup.find_all('body')\n",
    "#     print(body)\n",
    "    dom = etree.HTML(str(soup))\n",
    "    string = dom.xpath('/html/head/script[10]/text()')[0]\n",
    "    results = re.findall('http.+?.mp4', string)\n",
    "    title = soup.find('div', class_='prog_title')\n",
    "    title =  title.text.replace('\t',\"\")\n",
    "    title =  title.replace('  ',\"\")\n",
    "    print(directory+list_link[k], results, title)\n",
    "    counter=0\n",
    "    for result in results:\n",
    "        if result != 'https://app3.rthk.hk/mp4':\n",
    "            urllib.request.urlretrieve(result, '2012-2013/'+title+'.mp4', show_progress) \n",
    "            counter+1\n",
    "        else:\n",
    "            failed_list.append(directory+list_link[k])\n",
    "\n",
    "            \n",
    "pool = mp.Pool(processes=32)\n",
    "\n",
    "mylist = [y for y,x in enumerate(list_link)]\n",
    "# print(mylist)\n",
    "pool.map(scrape, mylist)\n",
    "\n",
    "print(failed_list)"
   ]
  },
  {
   "cell_type": "code",
   "execution_count": null,
   "id": "regulation-remains",
   "metadata": {},
   "outputs": [],
   "source": [
    "import re\n",
    "\n",
    "s = 'asdf=5;iwantthis123jasd'\n",
    "result = re.search('asdf=5;(.*)123jasd', s)\n",
    "print(result.group(1))\n"
   ]
  },
  {
   "cell_type": "code",
   "execution_count": null,
   "id": "coordinated-night",
   "metadata": {},
   "outputs": [],
   "source": [
    "from urllib import request\n",
    "from bs4 import BeautifulSoup as BS\n",
    "\n",
    "url = '''https://archive.org/details/20070519_detroit2'''\n",
    "#open and read page\n",
    "page = urllib.request.urlopen(url)\n",
    "html = page.read()\n",
    "#create BeautifulSoup parse-able \"soup\"\n",
    "soup = BS(html)\n",
    "#get the src attribute from the video tag\n",
    "video = soup.find_all(\"video\")\n",
    "print(video)"
   ]
  },
  {
   "cell_type": "code",
   "execution_count": null,
   "id": "portable-booking",
   "metadata": {},
   "outputs": [],
   "source": []
  }
 ],
 "metadata": {
  "kernelspec": {
   "display_name": "Python 3",
   "language": "python",
   "name": "python3"
  },
  "language_info": {
   "codemirror_mode": {
    "name": "ipython",
    "version": 3
   },
   "file_extension": ".py",
   "mimetype": "text/x-python",
   "name": "python",
   "nbconvert_exporter": "python",
   "pygments_lexer": "ipython3",
   "version": "3.7.3"
  }
 },
 "nbformat": 4,
 "nbformat_minor": 5
}
